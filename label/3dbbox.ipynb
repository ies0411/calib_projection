{
 "cells": [
  {
   "cell_type": "code",
   "execution_count": 1,
   "id": "1c0f7fcb",
   "metadata": {},
   "outputs": [],
   "source": [
    "# !pip install open3d\n",
    "# import open3d\n",
    "# !pip install --user open3d\n",
    "# !pip3 install open3d\n",
    "# !brew install libomp"
   ]
  },
  {
   "cell_type": "code",
   "execution_count": 2,
   "id": "c0708c4d",
   "metadata": {},
   "outputs": [],
   "source": [
    "import open3d"
   ]
  },
  {
   "cell_type": "code",
   "execution_count": 3,
   "id": "5462507d",
   "metadata": {},
   "outputs": [],
   "source": [
    "def translate_boxes_to_open3d_instance(gt_boxes):\n",
    "    \"\"\"\n",
    "             4-------- 6\n",
    "           /|         /|\n",
    "          5 -------- 3 .\n",
    "          | |        | |\n",
    "          . 7 -------- 1\n",
    "          |/         |/\n",
    "          2 -------- 0\n",
    "    \"\"\"\n",
    "    center = gt_boxes[0:3]\n",
    "    lwh = gt_boxes[3:6]\n",
    "    axis_angles = np.array([0, 0, gt_boxes[6] + 1e-10])\n",
    "    rot = open3d.geometry.get_rotation_matrix_from_axis_angle(axis_angles)\n",
    "    box3d = open3d.geometry.OrientedBoundingBox(center, rot, lwh)\n",
    "\n",
    "    line_set = open3d.geometry.LineSet.create_from_oriented_bounding_box(box3d)\n",
    "\n",
    "    # import ipdb; ipdb.set_trace(context=20)\n",
    "    lines = np.asarray(line_set.lines)\n",
    "    lines = np.concatenate([lines, np.array([[1, 4], [7, 6]])], axis=0)\n",
    "\n",
    "    line_set.lines = open3d.utility.Vector2iVector(lines)\n",
    "\n",
    "    return line_set, box3d\n"
   ]
  },
  {
   "cell_type": "code",
   "execution_count": 4,
   "id": "0d37499c",
   "metadata": {},
   "outputs": [],
   "source": [
    "def draw_box(vis, gt_boxes, color=(0, 1, 0), ref_labels=None, score=None):\n",
    "    for i in range(gt_boxes.shape[0]):\n",
    "        line_set, box3d = translate_boxes_to_open3d_instance(gt_boxes[i])\n",
    "        if ref_labels is None:\n",
    "            line_set.paint_uniform_color(color)\n",
    "        else:\n",
    "            line_set.paint_uniform_color(box_colormap[ref_labels[i]])\n",
    "\n",
    "        vis.add_geometry(line_set)\n",
    "\n",
    "        # if score is not None:\n",
    "        #     corners = box3d.get_box_points()\n",
    "        #     vis.add_3d_label(corners[5], '%.2f' % score[i])\n",
    "    return vis"
   ]
  },
  {
   "cell_type": "code",
   "execution_count": 5,
   "id": "3f227f66",
   "metadata": {},
   "outputs": [],
   "source": [
    "def draw_scenes(points, gt_boxes=None, ref_boxes=None, ref_labels=None, ref_scores=None, point_colors=None, draw_origin=True):\n",
    "#     if isinstance(points, torch.Tensor):\n",
    "#         points = points.cpu().numpy()\n",
    "#     if isinstance(gt_boxes, torch.Tensor):\n",
    "#         gt_boxes = gt_boxes.cpu().numpy()\n",
    "#     if isinstance(ref_boxes, torch.Tensor):\n",
    "#         ref_boxes = ref_boxes.cpu().numpy()\n",
    "\n",
    "    vis = open3d.visualization.Visualizer()\n",
    "    vis.create_window()\n",
    "\n",
    "    vis.get_render_option().point_size = 1.0\n",
    "    vis.get_render_option().background_color = np.zeros(3)\n",
    "\n",
    "    # draw origin\n",
    "    if draw_origin:\n",
    "        axis_pcd = open3d.geometry.TriangleMesh.create_coordinate_frame(size=1.0, origin=[0, 0, 0])\n",
    "        vis.add_geometry(axis_pcd)\n",
    "\n",
    "    pts = open3d.geometry.PointCloud()\n",
    "    pts.points = open3d.utility.Vector3dVector(points[:, :3])\n",
    "\n",
    "    vis.add_geometry(pts)\n",
    "    if point_colors is None:\n",
    "        pts.colors = open3d.utility.Vector3dVector(np.ones((points.shape[0], 3)))\n",
    "    else:\n",
    "        pts.colors = open3d.utility.Vector3dVector(point_colors)\n",
    "\n",
    "    if gt_boxes is not None:\n",
    "        vis = draw_box(vis, gt_boxes, (0, 0, 1))\n",
    "\n",
    "    if ref_boxes is not None:\n",
    "        vis = draw_box(vis, ref_boxes, (0, 1, 0), ref_labels, ref_scores)\n",
    "\n",
    "    vis.run()\n",
    "    vis.destroy_window()\n"
   ]
  },
  {
   "cell_type": "code",
   "execution_count": 6,
   "id": "0fc93408",
   "metadata": {},
   "outputs": [],
   "source": [
    "# 49.35357278024932 -4.0872265244834125 6.998611167809742 1.9872066974639893 4.442183971405029 1.77456533908844 -0.0011515508553502627 car"
   ]
  },
  {
   "cell_type": "code",
   "execution_count": 7,
   "id": "a567c94c",
   "metadata": {},
   "outputs": [],
   "source": [
    "import numpy as np\n",
    "points = np.load('./0000000000.npy')"
   ]
  },
  {
   "cell_type": "code",
   "execution_count": 8,
   "id": "7342c556",
   "metadata": {},
   "outputs": [],
   "source": [
    "points.shape\n",
    "gt_boxes = np.array([[ 49.35357278024932 ,-4.0872265244834125 ,6.998611167809742 ,1.9872066974639893 ,4.442183971405029 ,1.77456533908844 ,-0.0011515508553502627 ]])\n",
    "# gt_boxes = np.array([[ 0,0,0,1,1,1,0 ]])\n"
   ]
  },
  {
   "cell_type": "code",
   "execution_count": 9,
   "id": "5b486b69",
   "metadata": {},
   "outputs": [
    {
     "data": {
      "text/plain": [
       "(1, 7)"
      ]
     },
     "execution_count": 9,
     "metadata": {},
     "output_type": "execute_result"
    }
   ],
   "source": [
    "gt_boxes.shape"
   ]
  },
  {
   "cell_type": "code",
   "execution_count": 10,
   "id": "d395a69f",
   "metadata": {},
   "outputs": [
    {
     "name": "stdout",
     "output_type": "stream",
     "text": [
      "\u001b[1;33m[Open3D WARNING] GLFW Error: Cocoa: Failed to find service port for display\u001b[0;m\n",
      "\u001b[1;33m[Open3D WARNING] GLFW Error: Cocoa: Failed to find service port for display\u001b[0;m\n",
      "\u001b[1;33m[Open3D WARNING] GLFW Error: Cocoa: Failed to find service port for display\u001b[0;m\n",
      "\u001b[1;33m[Open3D WARNING] GLFW Error: Cocoa: Failed to find service port for display\u001b[0;m\n"
     ]
    },
    {
     "name": "stderr",
     "output_type": "stream",
     "text": [
      "2023-09-11 19:35:56.069 Python[29182:454302] TSM AdjustCapsLockLEDForKeyTransitionHandling - _ISSetPhysicalKeyboardCapsLockLED Inhibit\n"
     ]
    }
   ],
   "source": [
    "draw_scenes(points, gt_boxes=gt_boxes)\n"
   ]
  },
  {
   "cell_type": "code",
   "execution_count": null,
   "id": "3c79e032",
   "metadata": {},
   "outputs": [],
   "source": [
    "#  \"{:010d}.npy\".format(seq)"
   ]
  },
  {
   "cell_type": "code",
   "execution_count": 3,
   "id": "518bd4fb",
   "metadata": {
    "scrolled": false
   },
   "outputs": [
    {
     "name": "stdout",
     "output_type": "stream",
     "text": [
      "0000000150\n",
      "0000000151\n",
      "0000000152\n",
      "0000000153\n",
      "0000000154\n",
      "0000000155\n",
      "0000000156\n",
      "0000000157\n",
      "0000000158\n",
      "0000000159\n",
      "0000000160\n",
      "0000000161\n",
      "0000000162\n",
      "0000000163\n",
      "0000000164\n",
      "0000000165\n",
      "0000000166\n",
      "0000000167\n",
      "0000000168\n",
      "0000000169\n",
      "0000000170\n",
      "0000000171\n",
      "0000000172\n"
     ]
    }
   ],
   "source": [
    "# # 0000000172.txt\n",
    "# for i in range(150,173):\n",
    "#     print(\"{:010d}\".format(i))"
   ]
  }
 ],
 "metadata": {
  "kernelspec": {
   "display_name": "Python 3 (ipykernel)",
   "language": "python",
   "name": "python3"
  },
  "language_info": {
   "codemirror_mode": {
    "name": "ipython",
    "version": 3
   },
   "file_extension": ".py",
   "mimetype": "text/x-python",
   "name": "python",
   "nbconvert_exporter": "python",
   "pygments_lexer": "ipython3",
   "version": "3.10.10"
  }
 },
 "nbformat": 4,
 "nbformat_minor": 5
}
