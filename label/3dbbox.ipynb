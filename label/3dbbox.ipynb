{
 "cells": [
  {
   "cell_type": "code",
   "execution_count": 1,
   "id": "3593a43b",
   "metadata": {},
   "outputs": [],
   "source": [
    "# !pip install open3d\n",
    "# import open3d\n",
    "# !pip install --user open3d\n",
    "# !pip3 install open3d\n",
    "# !brew install libomp"
   ]
  },
  {
   "cell_type": "code",
   "execution_count": 2,
   "id": "e9194e40",
   "metadata": {},
   "outputs": [],
   "source": [
    "import open3d"
   ]
  },
  {
   "cell_type": "code",
   "execution_count": 3,
   "id": "bc2d4e85",
   "metadata": {},
   "outputs": [],
   "source": [
    "def translate_boxes_to_open3d_instance(gt_boxes):\n",
    "    \"\"\"\n",
    "             4-------- 6\n",
    "           /|         /|\n",
    "          5 -------- 3 .\n",
    "          | |        | |\n",
    "          . 7 -------- 1\n",
    "          |/         |/\n",
    "          2 -------- 0\n",
    "    \"\"\"\n",
    "    center = gt_boxes[0:3]\n",
    "    lwh = gt_boxes[3:6]\n",
    "    axis_angles = np.array([0, 0, gt_boxes[6] + 1e-10])\n",
    "    rot = open3d.geometry.get_rotation_matrix_from_axis_angle(axis_angles)\n",
    "    box3d = open3d.geometry.OrientedBoundingBox(center, rot, lwh)\n",
    "\n",
    "    line_set = open3d.geometry.LineSet.create_from_oriented_bounding_box(box3d)\n",
    "\n",
    "    # import ipdb; ipdb.set_trace(context=20)\n",
    "    lines = np.asarray(line_set.lines)\n",
    "    lines = np.concatenate([lines, np.array([[1, 4], [7, 6]])], axis=0)\n",
    "\n",
    "    line_set.lines = open3d.utility.Vector2iVector(lines)\n",
    "\n",
    "    return line_set, box3d\n"
   ]
  },
  {
   "cell_type": "code",
   "execution_count": 4,
   "id": "e66b24bf",
   "metadata": {},
   "outputs": [],
   "source": [
    "def draw_box(vis, gt_boxes, color=(0, 1, 0), ref_labels=None, score=None):\n",
    "    for i in range(gt_boxes.shape[0]):\n",
    "        line_set, box3d = translate_boxes_to_open3d_instance(gt_boxes[i])\n",
    "        if ref_labels is None:\n",
    "            line_set.paint_uniform_color(color)\n",
    "        else:\n",
    "            line_set.paint_uniform_color(box_colormap[ref_labels[i]])\n",
    "\n",
    "        vis.add_geometry(line_set)\n",
    "\n",
    "        # if score is not None:\n",
    "        #     corners = box3d.get_box_points()\n",
    "        #     vis.add_3d_label(corners[5], '%.2f' % score[i])\n",
    "    return vis"
   ]
  },
  {
   "cell_type": "code",
   "execution_count": 5,
   "id": "b52d567d",
   "metadata": {},
   "outputs": [],
   "source": [
    "def draw_scenes(points, gt_boxes=None, ref_boxes=None, ref_labels=None, ref_scores=None, point_colors=None, draw_origin=True):\n",
    "#     if isinstance(points, torch.Tensor):\n",
    "#         points = points.cpu().numpy()\n",
    "#     if isinstance(gt_boxes, torch.Tensor):\n",
    "#         gt_boxes = gt_boxes.cpu().numpy()\n",
    "#     if isinstance(ref_boxes, torch.Tensor):\n",
    "#         ref_boxes = ref_boxes.cpu().numpy()\n",
    "\n",
    "    vis = open3d.visualization.Visualizer()\n",
    "    vis.create_window()\n",
    "\n",
    "    vis.get_render_option().point_size = 1.0\n",
    "    vis.get_render_option().background_color = np.zeros(3)\n",
    "\n",
    "    # draw origin\n",
    "    if draw_origin:\n",
    "        axis_pcd = open3d.geometry.TriangleMesh.create_coordinate_frame(size=1.0, origin=[0, 0, 0])\n",
    "        vis.add_geometry(axis_pcd)\n",
    "\n",
    "    pts = open3d.geometry.PointCloud()\n",
    "    pts.points = open3d.utility.Vector3dVector(points[:, :3])\n",
    "\n",
    "    vis.add_geometry(pts)\n",
    "    if point_colors is None:\n",
    "        pts.colors = open3d.utility.Vector3dVector(np.ones((points.shape[0], 3)))\n",
    "    else:\n",
    "        pts.colors = open3d.utility.Vector3dVector(point_colors)\n",
    "\n",
    "    if gt_boxes is not None:\n",
    "        vis = draw_box(vis, gt_boxes, (0, 0, 1))\n",
    "\n",
    "    if ref_boxes is not None:\n",
    "        vis = draw_box(vis, ref_boxes, (0, 1, 0), ref_labels, ref_scores)\n",
    "\n",
    "    vis.run()\n",
    "    vis.destroy_window()\n"
   ]
  },
  {
   "cell_type": "code",
   "execution_count": 6,
   "id": "b9bb608e",
   "metadata": {},
   "outputs": [],
   "source": [
    "# 49.35357278024932 -4.0872265244834125 6.998611167809742 1.9872066974639893 4.442183971405029 1.77456533908844 -0.0011515508553502627 car"
   ]
  },
  {
   "cell_type": "code",
   "execution_count": 7,
   "id": "acbfdfac",
   "metadata": {},
   "outputs": [],
   "source": [
    "import numpy as np\n",
    "points = np.load('./0000000000.npy')"
   ]
  },
  {
   "cell_type": "code",
   "execution_count": 8,
   "id": "89b355ff",
   "metadata": {},
   "outputs": [],
   "source": [
    "points.shape\n",
    "# -31.15018083696177 -26.262241946068908 -3.497304856777191 1.441947340965271 4.673638820648193 1.8118125200271606 4.72081934997339 car\n",
    "# 29.72312709756063 0.11922884379843281 -3.4968100786209106 6.273553371429443 2.3895740509033203 2.098191261291504 6.27236088892896 truck\n",
    "gt_boxes = np.array([[ 29.72312709756063, 0.11922884379843281, -3.4968100786209106, 6.273553371429443, 2.3895740509033203, 2.098191261291504, 6.27236088892896  ],\n",
    "                     [-12.103439991520963, -10.503559038780503, -3.4968149662017822, 6.273553371429443, 2.3895740509033203, 2.098191261291504, 3.141592653589793 ],\n",
    "                    [3.099999767260745, -3.499960520781756, -3.4968149662017822, 6.273553371429443, 2.3895740509033203, 2.098191261291504,0.0],\n",
    "                     [-40.19345975124162, -3.567801983350119, -3.4968149065971375, 5.565828800201416, 2.1499669551849365, 2.045147180557251, 0.0],\n",
    "                     [24.15495753711546, -10.338444122095442, -3.4968149662017822, 6.36564302444458, 2.3511743545532227, 2.431375741958618, 3.1307684954134913],\n",
    "                     \n",
    "                    ])\n",
    "# gt_boxes = np.array([[ 0,0,0,1,1,1,0 ]])\n"
   ]
  },
  {
   "cell_type": "code",
   "execution_count": 9,
   "id": "de630cf6",
   "metadata": {},
   "outputs": [
    {
     "data": {
      "text/plain": [
       "(5, 7)"
      ]
     },
     "execution_count": 9,
     "metadata": {},
     "output_type": "execute_result"
    }
   ],
   "source": [
    "gt_boxes.shape"
   ]
  },
  {
   "cell_type": "code",
   "execution_count": null,
   "id": "fdd5b1e9",
   "metadata": {},
   "outputs": [],
   "source": [
    "draw_scenes(points, gt_boxes=gt_boxes)\n"
   ]
  },
  {
   "cell_type": "code",
   "execution_count": null,
   "id": "9db432eb",
   "metadata": {},
   "outputs": [],
   "source": [
    "#  \"{:010d}.npy\".format(seq)"
   ]
  },
  {
   "cell_type": "code",
   "execution_count": null,
   "id": "c9044433",
   "metadata": {
    "scrolled": false
   },
   "outputs": [],
   "source": [
    "# # 0000000172.txt\n",
    "# for i in range(150,173):\n",
    "#     print(\"{:010d}\".format(i))"
   ]
  },
  {
   "cell_type": "code",
   "execution_count": null,
   "id": "8682551c",
   "metadata": {},
   "outputs": [],
   "source": []
  },
  {
   "cell_type": "code",
   "execution_count": null,
   "id": "2a75d941",
   "metadata": {},
   "outputs": [],
   "source": []
  }
 ],
 "metadata": {
  "kernelspec": {
   "display_name": "Python 3 (ipykernel)",
   "language": "python",
   "name": "python3"
  },
  "language_info": {
   "codemirror_mode": {
    "name": "ipython",
    "version": 3
   },
   "file_extension": ".py",
   "mimetype": "text/x-python",
   "name": "python",
   "nbconvert_exporter": "python",
   "pygments_lexer": "ipython3",
   "version": "3.10.10"
  }
 },
 "nbformat": 4,
 "nbformat_minor": 5
}
