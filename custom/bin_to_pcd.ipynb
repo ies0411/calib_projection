{
 "cells": [
  {
   "cell_type": "code",
   "execution_count": 21,
   "metadata": {},
   "outputs": [],
   "source": [
    "import numpy as np\n",
    "import struct\n",
    "from open3d import *\n",
    "\n",
    "def convert_kitti_bin_to_pcd(binFilePath,num):\n",
    "    size_float = 4\n",
    "    list_pcd = []\n",
    "    with open(binFilePath, \"rb\") as f:\n",
    "        if num==4:\n",
    "          byte = f.read(size_float * 4)\n",
    "          while byte:\n",
    "              x, y, z, intensity = struct.unpack(\"ffff\", byte)\n",
    "              list_pcd.append([x, y, z])\n",
    "              byte = f.read(size_float * 4)\n",
    "        elif num==3:\n",
    "          byte = f.read(size_float * num)\n",
    "          while byte:\n",
    "              x, y, z = struct.unpack(\"fff\", byte)\n",
    "              list_pcd.append([x, y, z])\n",
    "              byte = f.read(size_float *num)\n",
    "    np_pcd = np.asarray(list_pcd)\n",
    "    pcd = geometry.PointCloud()\n",
    "    pcd.points = utility.Vector3dVector(np_pcd)\n",
    "    return pcd"
   ]
  },
  {
   "cell_type": "code",
   "execution_count": 22,
   "metadata": {},
   "outputs": [],
   "source": [
    "pcd = convert_kitti_bin_to_pcd('../../OpenPCDet/data/sample/pcd/frame_00000001.bin',3)"
   ]
  },
  {
   "cell_type": "code",
   "execution_count": 23,
   "metadata": {},
   "outputs": [
    {
     "data": {
      "text/plain": [
       "True"
      ]
     },
     "execution_count": 23,
     "metadata": {},
     "output_type": "execute_result"
    }
   ],
   "source": [
    "output_path = '../../OpenPCDet/data/sample/pcd/convert.pcd'\n",
    "open3d.io.write_point_cloud(output_path, pcd)\n"
   ]
  },
  {
   "cell_type": "code",
   "execution_count": null,
   "metadata": {},
   "outputs": [],
   "source": [
    "def read_bin(bin_file_path):\n",
    "    list_pcd = []\n",
    "    with open (bin_file_path, \"rb\") as f:\n",
    "        size_float = 4\n",
    "        byte = f.read(size_float*4)\n",
    "        while byte:\n",
    "            x,y,z,intensity = struct.unpack(\"ffff\", byte)\n",
    "            list_pcd.append([x, y, z])\n",
    "            byte = f.read(size_float*4)\n",
    "    np_pcd = np.asarray(list_pcd)\n",
    "    return np_pcd      "
   ]
  }
 ],
 "metadata": {
  "kernelspec": {
   "display_name": "pcdet",
   "language": "python",
   "name": "python3"
  },
  "language_info": {
   "codemirror_mode": {
    "name": "ipython",
    "version": 3
   },
   "file_extension": ".py",
   "mimetype": "text/x-python",
   "name": "python",
   "nbconvert_exporter": "python",
   "pygments_lexer": "ipython3",
   "version": "3.8.16 (default, Jan 17 2023, 23:13:24) \n[GCC 11.2.0]"
  },
  "orig_nbformat": 4,
  "vscode": {
   "interpreter": {
    "hash": "9a80c0b2ff95d398b0238a658fc2767280a63b31a3529d091b59179bbbc694b2"
   }
  }
 },
 "nbformat": 4,
 "nbformat_minor": 2
}
