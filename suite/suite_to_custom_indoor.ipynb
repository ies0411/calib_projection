{
 "cells": [
  {
   "cell_type": "code",
   "execution_count": 21,
   "id": "932f1c79",
   "metadata": {},
   "outputs": [],
   "source": [
    "import json\n",
    "import numpy as np\n",
    "# import quaternion\n",
    "import math\n",
    "import os\n",
    "import cv2\n",
    "import open3d as o3d\n",
    "import natsort \n",
    "import shutil\n",
    "from pyquaternion import Quaternion\n",
    "\n",
    "# from PIL import Image\n",
    "# from pyquaternion import Quaternion\n",
    "# from scipy.spatial.transform import Rotation as R\n",
    "\n",
    "\n",
    "output_path='/home/eslim/data/indoor/custom/'\n",
    "\n",
    "asset_path ='/home/eslim/data/indoor/asset/'\n",
    "label_path ='/home/eslim/data/indoor/labels/'\n",
    "\n",
    "\n",
    "train_ratio = 0.7\n",
    "class_names=[]\n",
    "\n",
    "# img = cv2.imread(asset_path+'0a10c009-dc8b-4479-80f4-49db9e60b473/image_00000001_00000001.jpg')\n",
    "# img_height,img_width = img.shape[:2]\n",
    "\n",
    "# class_name_arr=np.array([])\n",
    "#Q : FOV아니고 whole scene label?\n"
   ]
  },
  {
   "cell_type": "code",
   "execution_count": 22,
   "id": "07a67717",
   "metadata": {
    "scrolled": true
   },
   "outputs": [],
   "source": [
    "# !pip install open3d\n",
    "# !pip install natsort"
   ]
  },
  {
   "cell_type": "code",
   "execution_count": 23,
   "id": "b8d732e7",
   "metadata": {},
   "outputs": [],
   "source": [
    "# !python -m pip install --upgrade --force-reinstall numpy-quaternion\n",
    "# !conda install -c conda-forge quaternion\n",
    "#https://quaternion.readthedocs.io/en/latest/\n",
    "#!pip install natsort"
   ]
  },
  {
   "cell_type": "code",
   "execution_count": 24,
   "id": "12c3d3bb",
   "metadata": {},
   "outputs": [
    {
     "name": "stdout",
     "output_type": "stream",
     "text": [
      "[[-9.2735014e+00  6.3342840e-04 -2.1530333e-01  0.0000000e+00]\n",
      " [-3.1894591e+00  4.4871704e-04 -1.2454424e+00  0.0000000e+00]\n",
      " [-9.2679996e+00  1.9747308e-03  0.0000000e+00  0.0000000e+00]\n",
      " ...\n",
      " [-3.2751572e+00 -6.8247184e-04 -1.2789063e+00  0.0000000e+00]\n",
      " [-9.2799997e+00 -1.2620434e-03  0.0000000e+00  0.0000000e+00]\n",
      " [-3.3077180e+00 -2.1041639e-04 -1.2039109e+00  0.0000000e+00]]\n",
      "[-4.422363   6.329202   0.5399151  0.       ]\n"
     ]
    },
    {
     "data": {
      "text/plain": [
       "True"
      ]
     },
     "execution_count": 24,
     "metadata": {},
     "output_type": "execute_result"
    }
   ],
   "source": [
    "points = np.fromfile(\"/home/eslim/data/indoor/asset/00aa9c72-e978-4fcb-8db3-6f2531a37200/frame_00000022.bin\", dtype=np.float32).reshape(-1,4)\n",
    "# points[3]\n",
    "# pcd = o3d.t.geometry.PointCloud()\n",
    "# pcd.point = points[:3]\n",
    "# points = np.fromefile(\"/nms/\")\n",
    "print(points)\n",
    "print(points[5000])\n",
    "np.shape(points)\n",
    "points = points[:,:3]\n",
    "np.shape(points)\n",
    "pc = o3d.geometry.PointCloud()\n",
    "pc.points = o3d.utility.Vector3dVector(points)\n",
    "# # print(pc)\n",
    "o3d.io.write_point_cloud(\"./test2.pcd\", pc)\n"
   ]
  },
  {
   "cell_type": "code",
   "execution_count": null,
   "id": "8cb3cd5e",
   "metadata": {},
   "outputs": [],
   "source": []
  },
  {
   "cell_type": "code",
   "execution_count": 25,
   "id": "ec23d9a1",
   "metadata": {},
   "outputs": [],
   "source": [
    "def convert_pcd_to_npy(file_path,save_path):\n",
    "    point_cloud = o3d.read_point_cloud(file_path)\n",
    "    pointcloud = np.asarray(point_cloud.points)[:, :3]\n",
    "    zeros = np.zeros(np.shape(pointcloud)[0])\n",
    "    zeros = np.reshape(zeros, (-1, 1))\n",
    "    points = np.concatenate([pointcloud, zeros], axis=1)\n",
    "    np.save(save_path, points)\n",
    "\n",
    "def convert_bin_to_npy(file_path,save_path):\n",
    "#     print(file_path)\n",
    "    try:\n",
    "        points = np.fromfile(file_path, dtype=np.float32).reshape(-1, 4)\n",
    "        np.save(save_path, points)\n",
    "    except:\n",
    "        print(file_path)\n",
    "    "
   ]
  },
  {
   "cell_type": "code",
   "execution_count": 26,
   "id": "9ad8218b",
   "metadata": {},
   "outputs": [],
   "source": [
    "'''\n",
    "move pcd file to each folder and rename as order\n",
    "'''\n",
    "def copy_pcd(mode,path,output_path,idx):       \n",
    "    try:\n",
    "        if not os.path.exists(output_path+'points/'):\n",
    "            os.makedirs(output_path+'points/')\n",
    "    except OSError:\n",
    "        print(\"Error: Failed to create the directory.\")\n",
    "   \n",
    "    if mode == \"pcd\":\n",
    "        output_img_path = output_path+'points/'\n",
    "        convert_pcd_to_npy(path, output_img_path+str(idx).zfill(6)+\".npy\")  \n",
    "    elif mode == \"bin\":\n",
    "        output_img_path = output_path+'points/'    \n",
    "        convert_bin_to_npy(path, output_img_path+str(idx).zfill(6)+\".npy\")          \n",
    "\n"
   ]
  },
  {
   "cell_type": "code",
   "execution_count": 27,
   "id": "f7dd3322",
   "metadata": {},
   "outputs": [],
   "source": [
    "# try:\n",
    "#     file = open(label_path+'00aa9c72-e978-4fcb-8db3-6f2531a37200.json')\n",
    "# except:\n",
    "#     print(\"Error: Failed to open the file\")\n",
    "\n",
    "\n",
    "# jsonString = json.load(file) \n",
    "# jsonArray = jsonString.get('objects')\n",
    "# for iter_num, list in enumerate(jsonArray):\n",
    "#     frames = list.get(\"frames\")\n",
    "#     class_name = list.get('class_name')\n",
    "#     global class_names\n",
    "#     if (class_name in class_names) is not True:\n",
    "\n",
    "#         class_names.append(class_name)\n",
    "\n",
    "#     for frame in frames:\n",
    "#         idx = frame.get('num')\n",
    "\n",
    "#         ann = frame.get('annotation').get('coord')\n",
    "#         height = np.round_(ann.get('size').get('z'),5)\n",
    "#         width = np.round_(ann.get('size').get('y'),5)\n",
    "#         length = np.round_(ann.get('size').get('x'),5)\n",
    "#         # TODO : check coordinate , lidar or cam? -> cam\n",
    "\n",
    "\n",
    "\n",
    "#         x = np.round_(ann.get('position').get('x'),5)\n",
    "#         y = np.round_(ann.get('position').get('y'),5)\n",
    "#         z = np.round_(ann.get('position').get('z'),5) \n",
    "\n",
    "# #             yaw_pitch_roll = Quaternion(ann.get('rotation_quaternion').get('w'),ann.get('rotation_quaternion').get('x'),ann.get('rotation_quaternion').get('y'),ann.get('rotation_quaternion').get('z')).yaw_pitch_roll\n",
    "#         yaw_pitch_roll = Quaternion(\n",
    "#             ann.get('rotation_quaternion').get('w'),\n",
    "#             ann.get('rotation_quaternion').get('x'),\n",
    "#             ann.get('rotation_quaternion').get('y'),\n",
    "#             ann.get('rotation_quaternion').get('z'),\n",
    "#         ).yaw_pitch_roll\n",
    "#         yaw = np.round_(yaw_pitch_roll[0], 5)\n",
    "#         print(x,y,z,yaw)"
   ]
  },
  {
   "cell_type": "code",
   "execution_count": 28,
   "id": "a2747f0d",
   "metadata": {},
   "outputs": [],
   "source": [
    "'''\n",
    "convert label info to custom form\n",
    "\n",
    "format: [x y z dx dy dz heading_angle category_name]\n",
    "\n",
    "'''\n",
    "def preprocess_label(label_output,frame_num):\n",
    "    label_output = label_output+\"labels/\"\n",
    "    try:\n",
    "        if not os.path.exists(label_output):\n",
    "            os.makedirs(label_output)\n",
    "    except OSError:\n",
    "        print(\"Error: Failed to create the directory.\")\n",
    "    for i in range(frame_num):\n",
    "        try:\n",
    "            f = open(label_output+str(label_idx+i).zfill(6)+\".txt\", 'w')\n",
    "            f.close()\n",
    "        except:\n",
    "            print(\"Fail to create file\")\n",
    "\n",
    "def convert_label_suite2custom(label_path,label_output, label_idx): \n",
    "    label_output = label_output+\"labels/\"\n",
    "    try:\n",
    "        file = open(label_path)\n",
    "    except:\n",
    "        print(\"Error: Failed to open the file\")\n",
    "\n",
    "\n",
    "    jsonString = json.load(file)   \n",
    "    # frame_num = jsonString.get(\"label\").get('asset').get(\"info\").get(\"frame_count\")\n",
    "\n",
    "\n",
    "    try:\n",
    "        jsonArray = jsonString.get('objects')\n",
    "    except:\n",
    "        print(\"can't find objects\")\n",
    "        # return label_idx\n",
    "        return\n",
    "    \n",
    "    # calib_path = output_path+'training/calib/'\n",
    "    for iter_num, list in enumerate(jsonArray):\n",
    "        frames = list.get(\"frames\")\n",
    "        class_name = list.get('class_name')\n",
    "        if class_name == \"Wall\" or class_name == 'Undefined Object' or class_name =='Undefined Stuff':\n",
    "            continue\n",
    "        if class_name == 'Traffic Cone':\n",
    "            class_name = 'Traffic_Cone'\n",
    "        global class_names\n",
    "        if (class_name in class_names) is not True:\n",
    "            \n",
    "            class_names.append(class_name)\n",
    "            \n",
    "        for frame in frames:\n",
    "            idx = frame.get('num')\n",
    "            \n",
    "            ann = frame.get('annotation').get('coord')\n",
    "            height = np.round_(ann.get('size').get('z'),5)\n",
    "            width = np.round_(ann.get('size').get('y'),5)\n",
    "            length = np.round_(ann.get('size').get('x'),5)\n",
    "            # TODO : check coordinate , lidar or cam? -> cam\n",
    "            \n",
    "            \n",
    "            \n",
    "            x = np.round_(ann.get('position').get('x'),5)\n",
    "            y = np.round_(ann.get('position').get('y'),5)\n",
    "            z = np.round_(ann.get('position').get('z'),5) \n",
    "           \n",
    "#             yaw_pitch_roll = Quaternion(ann.get('rotation_quaternion').get('w'),ann.get('rotation_quaternion').get('x'),ann.get('rotation_quaternion').get('y'),ann.get('rotation_quaternion').get('z')).yaw_pitch_roll\n",
    "            yaw_pitch_roll = Quaternion(\n",
    "                ann.get('rotation_quaternion').get('w'),\n",
    "                ann.get('rotation_quaternion').get('x'),\n",
    "                ann.get('rotation_quaternion').get('y'),\n",
    "                ann.get('rotation_quaternion').get('z'),\n",
    "            ).yaw_pitch_roll\n",
    "            yaw = np.round_(yaw_pitch_roll[0], 5)\n",
    "#             yaw = np.round_(yaw_pitch_roll[0],5)\n",
    "\n",
    "            f = open(label_output+str(label_idx+idx).zfill(6)+\".txt\", 'a')\n",
    "            f.write(f'{x} {y} {z} {length} {width} {height} {yaw} {class_name}\\n')\n",
    "            f.close()\n",
    "    return\n",
    "    # return label_idx\n",
    "\n",
    "                           "
   ]
  },
  {
   "cell_type": "code",
   "execution_count": 29,
   "id": "86ad3825",
   "metadata": {},
   "outputs": [],
   "source": [
    "###calib, file movement exec###\n",
    "\n",
    "asset_path_list = os.listdir(asset_path)\n",
    "asset_path_list = natsort.natsorted(asset_path_list)\n",
    "\n",
    "\n",
    "\n",
    "\n",
    "# print(asset_path_list)\n",
    "pcd_idx=0\n",
    "num_frame=[]\n",
    "num_frame.append(0)\n",
    "for data_cnt,path in enumerate(asset_path_list):\n",
    "    \n",
    "    files = os.listdir(asset_path+path)\n",
    "    files = natsort.natsorted(files)\n",
    "            \n",
    "    for file in files:        \n",
    "                   \n",
    "        if '.bin' in file:\n",
    "            #TODO : preprocession\n",
    "            pcd_file_path = os.path.join(asset_path+path, file)\n",
    "            copy_pcd('bin',pcd_file_path,output_path,pcd_idx)\n",
    "            pcd_idx+=1\n",
    "            # total_num_frame+=1\n",
    "            \n",
    "        if '.pcd' in file:\n",
    "            pcd_file_path = os.path.join(asset_path+path, file)\n",
    "            copy_pcd('pcd',pcd_file_path,output_path,pcd_idx)\n",
    "            pcd_idx+=1\n",
    "            # total_num_frame+=1\n",
    "            \n",
    "    num_frame.append(pcd_idx)\n",
    "# print(f'pcd num : {pcd_idx}')\n",
    "\n"
   ]
  },
  {
   "cell_type": "code",
   "execution_count": 30,
   "id": "e6780911",
   "metadata": {},
   "outputs": [
    {
     "data": {
      "text/plain": [
       "90"
      ]
     },
     "execution_count": 30,
     "metadata": {},
     "output_type": "execute_result"
    }
   ],
   "source": [
    "# num_frame\n",
    "num_frame[-1]"
   ]
  },
  {
   "cell_type": "code",
   "execution_count": 31,
   "id": "137b23be",
   "metadata": {},
   "outputs": [
    {
     "name": "stdout",
     "output_type": "stream",
     "text": [
      "0\n"
     ]
    }
   ],
   "source": [
    "#####label exec\n",
    "\n",
    "label_list = os.listdir(label_path)\n",
    "label_list = natsort.natsorted(label_list)\n",
    "\n",
    "label_idx=0\n",
    "\n",
    "preprocess_label(output_path,num_frame[-1])\n",
    "for label_data_cnt,label in enumerate(label_list):\n",
    "    print(label_data_cnt)\n",
    "#     files = os.listdir(label_path+path)\n",
    "#     for file in files:\n",
    "#         if 'info.json' in file:\n",
    "    json_file_path = os.path.join(label_path, label)\n",
    "    file = open(json_file_path)\n",
    "    jsonString = json.load(file)\n",
    "    convert_label_suite2custom(json_file_path,output_path, num_frame[label_data_cnt])\n",
    "\n",
    "\n"
   ]
  },
  {
   "cell_type": "code",
   "execution_count": 32,
   "id": "2031d31e",
   "metadata": {},
   "outputs": [],
   "source": [
    "#### split train, test\n",
    "\n",
    "try:\n",
    "    if not os.path.exists(output_path+'ImageSets/'):\n",
    "        os.makedirs(output_path+'ImageSets/')\n",
    "except OSError:\n",
    "    print(\"Error: Failed to create the directory.\")\n",
    "    \n",
    "f2 = open(output_path+'ImageSets/'+'train'+\".txt\", 'w')\n",
    "f3 = open(output_path+'ImageSets/'+'val'+\".txt\", 'w')\n",
    "for idx in range(num_frame[-1]):\n",
    "    if idx < num_frame[-1]*train_ratio:\n",
    "        f2.write(f'{str(idx).zfill(6)}\\n')\n",
    "    else:\n",
    "        f3.write(f'{str(idx).zfill(6)}\\n')\n",
    "    idx+=1\n",
    "f2.close()\n",
    "f3.close()\n"
   ]
  },
  {
   "cell_type": "code",
   "execution_count": 33,
   "id": "e3d04782",
   "metadata": {},
   "outputs": [
    {
     "data": {
      "text/plain": [
       "['Pillar', 'Vehicle', 'Traffic_Cone', 'Human']"
      ]
     },
     "execution_count": 33,
     "metadata": {},
     "output_type": "execute_result"
    }
   ],
   "source": [
    "class_names"
   ]
  },
  {
   "cell_type": "code",
   "execution_count": null,
   "id": "fb594184",
   "metadata": {},
   "outputs": [],
   "source": []
  },
  {
   "cell_type": "code",
   "execution_count": null,
   "id": "1d2c4396",
   "metadata": {},
   "outputs": [],
   "source": []
  },
  {
   "cell_type": "code",
   "execution_count": null,
   "id": "eee76c0f",
   "metadata": {},
   "outputs": [],
   "source": []
  }
 ],
 "metadata": {
  "kernelspec": {
   "display_name": "Python 3 (ipykernel)",
   "language": "python",
   "name": "python3"
  },
  "language_info": {
   "codemirror_mode": {
    "name": "ipython",
    "version": 3
   },
   "file_extension": ".py",
   "mimetype": "text/x-python",
   "name": "python",
   "nbconvert_exporter": "python",
   "pygments_lexer": "ipython3",
   "version": "3.7.11"
  },
  "vscode": {
   "interpreter": {
    "hash": "9a80c0b2ff95d398b0238a658fc2767280a63b31a3529d091b59179bbbc694b2"
   }
  }
 },
 "nbformat": 4,
 "nbformat_minor": 5
}
