{
 "cells": [
  {
   "cell_type": "code",
   "execution_count": 1,
   "id": "9529b633",
   "metadata": {},
   "outputs": [
    {
     "name": "stdout",
     "output_type": "stream",
     "text": [
      "Jupyter environment detected. Enabling Open3D WebVisualizer.\n",
      "[Open3D INFO] WebRTC GUI backend enabled.\n",
      "[Open3D INFO] WebRTCWindowSystem: HTTP handshake server disabled.\n",
      "[Open3D INFO] Resetting default logger to print to terminal.\n"
     ]
    }
   ],
   "source": [
    "import re\n",
    "from copy import deepcopy\n",
    "from os import path as osp\n",
    "import open3d as o3d\n",
    "from open3d.web_visualizer import draw\n",
    "import sys\n",
    "import os\n",
    "import quaternion\n",
    "import json\n",
    "import quaternion\n",
    "import math\n",
    "import cv2\n",
    "\n",
    "import numpy as np\n",
    "import torch\n",
    "\n",
    "\n",
    "lidar_path ='/home/server-003/workspace/data/superb_mobis/jupyter_apps/asset/0aafd40e-85d8-496b-bfb8-03afbe333caf/pointclouds_00000001.bin'\n",
    "label_path ='/home/server-003/workspace/data/superb_mobis/jupyter_apps/label/0aafd40e-85d8-496b-bfb8-03afbe333caf/label_info.json'\n",
    "vis_frame_num = 0\n",
    "draw_box=[]"
   ]
  },
  {
   "cell_type": "code",
   "execution_count": 7,
   "id": "a74aa76c",
   "metadata": {},
   "outputs": [],
   "source": [
    "\n",
    "def convert_label_suite2kitti(label_path, vis_frame_num):\n",
    "    file = open(label_path)\n",
    "    jsonString = json.load(file)   \n",
    "    frame_num = jsonString.get(\"label\").get('asset').get(\"info\").get(\"frame_count\")\n",
    "   \n",
    "    try:\n",
    "        jsonArray = jsonString.get(\"label_info\").get('result').get(\"objects\")\n",
    "    except:\n",
    "        print(\"can't find objects\")\n",
    "        return \n",
    "        \n",
    "    for iter_num, list in enumerate(jsonArray):\n",
    "        frames = list.get(\"frames\")\n",
    "        for frame in frames:\n",
    "            idx = frame.get('num')\n",
    "            if idx==vis_frame_num:\n",
    "        \n",
    "                ann = frame.get('annotation').get('coord')\n",
    "                dim=[]\n",
    "                height = np.round_(ann.get('size').get('z'),5)\n",
    "                width = np.round_(ann.get('size').get('y'),5)\n",
    "                length = np.round_(ann.get('size').get('x'),5)\n",
    "                \n",
    "                \n",
    "                dim.append(width)\n",
    "                dim.append(length)\n",
    "                dim.append(height)\n",
    "        \n",
    "                lidar_coor_pose=[]\n",
    "            \n",
    "                lidar_coor_pose.append(np.round_(ann.get('position').get('x'),5))\n",
    "                lidar_coor_pose.append(np.round_(ann.get('position').get('y'),5))\n",
    "                lidar_coor_pose.append(np.round_(ann.get('position').get('z'),5)) #height/2 : gravity center\n",
    "            \n",
    "\n",
    "                q = np.quaternion(ann.get('rotation_quaternion').get('w'),ann.get('rotation_quaternion').get('x'),ann.get('rotation_quaternion').get('y'),ann.get('rotation_quaternion').get('z'))\n",
    "                lidar_coor_RPY = np.round_(quaternion.as_euler_angles(q),5)\n",
    "             \n",
    "                lidar_coor_RPY[0]=0\n",
    "                lidar_coor_RPY[2]=0\n",
    "                rot_mat = o3d.geometry.get_rotation_matrix_from_xyz(lidar_coor_RPY)\n",
    "            #     print(rot_mat)\n",
    "                box3d = o3d.geometry.OrientedBoundingBox(lidar_coor_pose, rot_mat, dim)\n",
    "                draw_box.append(box3d)     \n",
    "    print(f\"num of bbox : {len(draw_box)}\")\n",
    "    return\n"
   ]
  },
  {
   "cell_type": "code",
   "execution_count": 3,
   "id": "a497a664",
   "metadata": {},
   "outputs": [],
   "source": [
    "def load_bin(bin_path):\n",
    "    points = np.fromfile(bin_path, dtype=np.float32).reshape(-1, 4)\n",
    "    return points[:, :3]"
   ]
  },
  {
   "cell_type": "code",
   "execution_count": 4,
   "id": "3cb51ec8",
   "metadata": {},
   "outputs": [
    {
     "name": "stdout",
     "output_type": "stream",
     "text": [
      "11\n"
     ]
    }
   ],
   "source": [
    "convert_label_suite2kitti(label_path,vis_frame_num)\n",
    "velo_points = load_bin(lidar_path)\n",
    "cloud = o3d.geometry.PointCloud()\n",
    "cloud.points = o3d.utility.Vector3dVector(velo_points[:,:3])\n",
    "draw_box.append(cloud)"
   ]
  },
  {
   "cell_type": "code",
   "execution_count": null,
   "id": "afd56124",
   "metadata": {},
   "outputs": [],
   "source": [
    "\n"
   ]
  },
  {
   "cell_type": "code",
   "execution_count": 5,
   "id": "34c62bac",
   "metadata": {},
   "outputs": [
    {
     "name": "stdout",
     "output_type": "stream",
     "text": [
      "[Open3D INFO] Window window_0 created.\n",
      "[Open3D INFO] EGL headless mode enabled.\n"
     ]
    },
    {
     "name": "stderr",
     "output_type": "stream",
     "text": [
      "../src/intel/isl/isl.c:2105: FINISHME: ../src/intel/isl/isl.c:isl_surf_supports_ccs: CCS for 3D textures is disabled, but a workaround is available.\n"
     ]
    },
    {
     "data": {
      "application/vnd.jupyter.widget-view+json": {
       "model_id": "62efca3e0a774b9db8494528c5e82a1e",
       "version_major": 2,
       "version_minor": 0
      },
      "text/plain": [
       "WebVisualizer(window_uid='window_0')"
      ]
     },
     "metadata": {},
     "output_type": "display_data"
    },
    {
     "name": "stdout",
     "output_type": "stream",
     "text": [
      "[Open3D INFO] ICE servers: {\"stun:stun.l.google.com:19302\", \"turn:user:password@34.69.27.100:3478\", \"turn:user:password@34.69.27.100:3478?transport=tcp\"}\n",
      "FEngine (64 bits) created at 0x7f16eb572010 (threading is enabled)\n",
      "[Open3D INFO] Set WEBRTC_STUN_SERVER environment variable add a customized WebRTC STUN server.\n",
      "[Open3D INFO] WebRTC Jupyter handshake mode enabled.\n",
      "EGL(1.5)\n",
      "OpenGL(4.6)\n",
      "\u001b[1;33m[Open3D WARNING] invalid color in PaintUniformColor, clipping to [0, 1]\u001b[0;m\n",
      "\u001b[1;33m[Open3D WARNING] invalid color in PaintUniformColor, clipping to [0, 1]\u001b[0;m\n",
      "\u001b[1;33m[Open3D WARNING] invalid color in PaintUniformColor, clipping to [0, 1]\u001b[0;m\n",
      "\u001b[1;33m[Open3D WARNING] invalid color in PaintUniformColor, clipping to [0, 1]\u001b[0;m\n",
      "\u001b[1;33m[Open3D WARNING] invalid color in PaintUniformColor, clipping to [0, 1]\u001b[0;m\n",
      "\u001b[1;33m[Open3D WARNING] invalid color in PaintUniformColor, clipping to [0, 1]\u001b[0;m\n",
      "\u001b[1;33m[Open3D WARNING] invalid color in PaintUniformColor, clipping to [0, 1]\u001b[0;m\n",
      "\u001b[1;33m[Open3D WARNING] invalid color in PaintUniformColor, clipping to [0, 1]\u001b[0;m\n",
      "\u001b[1;33m[Open3D WARNING] invalid color in PaintUniformColor, clipping to [0, 1]\u001b[0;m\n",
      "\u001b[1;33m[Open3D WARNING] invalid color in PaintUniformColor, clipping to [0, 1]\u001b[0;m\n",
      "\u001b[1;33m[Open3D WARNING] invalid color in PaintUniformColor, clipping to [0, 1]\u001b[0;m\n",
      "\u001b[1;33m[Open3D WARNING] invalid color in PaintUniformColor, clipping to [0, 1]\u001b[0;m\n",
      "[Open3D INFO] [Called HTTP API (custom handshake)] /api/getIceServers\n",
      "[Open3D INFO] [Called HTTP API (custom handshake)] /api/call\n",
      "[Open3D INFO] [Called HTTP API (custom handshake)] /api/addIceCandidate\n",
      "[Open3D INFO] [Called HTTP API (custom handshake)] /api/addIceCandidate\n",
      "[Open3D INFO] [Called HTTP API (custom handshake)] /api/addIceCandidate\n",
      "[Open3D INFO] [Called HTTP API (custom handshake)] /api/addIceCandidate\n",
      "[Open3D INFO] [Called HTTP API (custom handshake)] /api/addIceCandidate\n",
      "[Open3D INFO] [Called HTTP API (custom handshake)] /api/addIceCandidate\n",
      "[Open3D INFO] [Called HTTP API (custom handshake)] /api/getIceCandidate\n",
      "[Open3D INFO] DataChannelObserver::OnStateChange label: ServerDataChannel, state: open, peerid: 0.7203626950791264\n",
      "[Open3D INFO] DataChannelObserver::OnStateChange label: ClientDataChannel, state: open, peerid: 0.7203626950791264\n",
      "[Open3D INFO] Sending init frames to window_0.\n"
     ]
    },
    {
     "name": "stderr",
     "output_type": "stream",
     "text": [
      "[000:000][97460] (stun_port.cc:96): Binding request timed out from 192.168.219.x:58517 (wlp147s0)\n"
     ]
    }
   ],
   "source": [
    "draw(draw_box)"
   ]
  },
  {
   "cell_type": "code",
   "execution_count": null,
   "id": "2bc4bde9",
   "metadata": {},
   "outputs": [],
   "source": []
  },
  {
   "cell_type": "code",
   "execution_count": null,
   "id": "3e0c6d34",
   "metadata": {},
   "outputs": [],
   "source": []
  },
  {
   "cell_type": "code",
   "execution_count": null,
   "id": "a3e72882",
   "metadata": {},
   "outputs": [],
   "source": []
  },
  {
   "cell_type": "code",
   "execution_count": null,
   "id": "9f1ad84d",
   "metadata": {},
   "outputs": [],
   "source": []
  }
 ],
 "metadata": {
  "kernelspec": {
   "display_name": "Python 3 (ipykernel)",
   "language": "python",
   "name": "python3"
  },
  "language_info": {
   "codemirror_mode": {
    "name": "ipython",
    "version": 3
   },
   "file_extension": ".py",
   "mimetype": "text/x-python",
   "name": "python",
   "nbconvert_exporter": "python",
   "pygments_lexer": "ipython3",
   "version": "3.8.10 (default, Nov 14 2022, 12:59:47) \n[GCC 9.4.0]"
  },
  "vscode": {
   "interpreter": {
    "hash": "916dbcbb3f70747c44a77c7bcd40155683ae19c65e1c03b4aa3499c5328201f1"
   }
  }
 },
 "nbformat": 4,
 "nbformat_minor": 5
}
