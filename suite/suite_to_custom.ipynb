{
 "cells": [
  {
   "cell_type": "code",
   "execution_count": 10,
   "id": "7a0a57e3",
   "metadata": {},
   "outputs": [],
   "source": [
    "import json\n",
    "import numpy as np\n",
    "import quaternion\n",
    "import math\n",
    "import os\n",
    "import cv2\n",
    "import open3d as o3d\n",
    "import natsort \n",
    "import shutil\n",
    "from PIL import Image\n",
    "from pyquaternion import Quaternion\n",
    "\n",
    "\n",
    "output_path='/home/server-003/workspace/dataset/output/custom/'\n",
    "\n",
    "asset_path ='/home/server-003/workspace/dataset/suite_pointclouds_examples/'\n",
    "label_path ='/home/server-003/workspace/dataset/suite_pointclouds_examples/'\n",
    "\n",
    "\n",
    "num_files =0\n",
    "train_ratio = 0.7\n",
    "class_names=[]\n",
    "\n",
    "# img = cv2.imread(asset_path+'0a10c009-dc8b-4479-80f4-49db9e60b473/image_00000001_00000001.jpg')\n",
    "# img_height,img_width = img.shape[:2]\n",
    "\n",
    "# class_name_arr=np.array([])\n"
   ]
  },
  {
   "cell_type": "code",
   "execution_count": 11,
   "id": "3c399727",
   "metadata": {},
   "outputs": [],
   "source": [
    "# !python -m pip install --upgrade --force-reinstall numpy-quaternion\n",
    "# !conda install -c conda-forge quaternion\n",
    "#https://quaternion.readthedocs.io/en/latest/\n",
    "#!pip install natsort"
   ]
  },
  {
   "cell_type": "code",
   "execution_count": 12,
   "id": "83597798",
   "metadata": {},
   "outputs": [],
   "source": [
    "def convert_pcd_to_npy(file_path,save_path):\n",
    "    point_cloud = o3d.read_point_cloud(file_path)\n",
    "    pc_array = np.asarray(point_cloud.points)\n",
    "    np.save(save_path, pc_array)\n",
    "\n",
    "def convert_bin_to_npy(file_path,save_path):\n",
    "    arr = np.fromfile(file_path, dtype=np.float64)\n",
    "    np.save(save_path, arr)\n",
    "    "
   ]
  },
  {
   "cell_type": "code",
   "execution_count": 13,
   "id": "831a1ccd",
   "metadata": {},
   "outputs": [],
   "source": [
    "'''\n",
    "move pcd file to each folder and rename as order\n",
    "'''\n",
    "def copy_pcd(mode,path,output_path,idx):       \n",
    "    try:\n",
    "        if not os.path.exists(output_path+'points/'):\n",
    "            os.makedirs(output_path+'points/')\n",
    "    except OSError:\n",
    "        print(\"Error: Failed to create the directory.\")\n",
    "   \n",
    "    if mode == \"pcd\":\n",
    "        output_img_path = output_path+'points/'\n",
    "        convert_pcd_to_npy(path, output_img_path+str(idx).zfill(6)+\".npy\")  \n",
    "    elif mode == \"bin\":\n",
    "        output_img_path = output_path+'points/'    \n",
    "        convert_bin_to_npy(path, output_img_path+str(idx).zfill(6)+\".npy\")          \n",
    "\n"
   ]
  },
  {
   "cell_type": "code",
   "execution_count": 14,
   "id": "8879780e",
   "metadata": {},
   "outputs": [],
   "source": [
    "'''\n",
    "convert label info to custom form\n",
    "\n",
    "format: [x y z dx dy dz heading_angle category_name]\n",
    "\n",
    "'''\n",
    "def preprocess_label(label_output,frame_num):\n",
    "    label_output = label_output+\"labels/\"\n",
    "    try:\n",
    "        if not os.path.exists(label_output):\n",
    "            os.makedirs(label_output)\n",
    "    except OSError:\n",
    "        print(\"Error: Failed to create the directory.\")\n",
    "    for i in range(frame_num):\n",
    "        try:\n",
    "            f = open(label_output+str(label_idx+i).zfill(6)+\".txt\", 'w')\n",
    "            f.close()\n",
    "        except:\n",
    "            print(\"Fail to create file\")\n",
    "\n",
    "def convert_label_suite2custom(label_path,label_output, label_idx): \n",
    "    label_output = label_output+\"labels/\"\n",
    "    try:\n",
    "        file = open(label_path)\n",
    "    except:\n",
    "        print(\"Error: Failed to open the file\")\n",
    "\n",
    "\n",
    "    jsonString = json.load(file)   \n",
    "    # frame_num = jsonString.get(\"label\").get('asset').get(\"info\").get(\"frame_count\")\n",
    "\n",
    "\n",
    "    try:\n",
    "        jsonArray = jsonString.get('result').get('objects')\n",
    "    except:\n",
    "        print(\"can't find objects\")\n",
    "        # return label_idx\n",
    "        return\n",
    "    \n",
    "    # calib_path = output_path+'training/calib/'\n",
    "    for iter_num, list in enumerate(jsonArray):\n",
    "        frames = list.get(\"frames\")\n",
    "        class_name = list.get('class_name')\n",
    "        global class_names\n",
    "        if (class_name in class_names) is not True:\n",
    "            \n",
    "            class_names.append(class_name)\n",
    "            \n",
    "        for frame in frames:\n",
    "            idx = frame.get('num')\n",
    "            \n",
    "            ann = frame.get('annotation').get('coord')\n",
    "            height = np.round_(ann.get('size').get('z'),5)\n",
    "            width = np.round_(ann.get('size').get('y'),5)\n",
    "            length = np.round_(ann.get('size').get('x'),5)\n",
    "            # TODO : check coordinate , lidar or cam? -> cam\n",
    "            \n",
    "            \n",
    "            \n",
    "            x = np.round_(ann.get('position').get('x'),5)\n",
    "            y = np.round_(ann.get('position').get('y'),5)\n",
    "            z = np.round_(ann.get('position').get('z'),5) \n",
    "           \n",
    "            yaw_pitch_roll = Quaternion(ann.get('rotation_quaternion').get('w'),ann.get('rotation_quaternion').get('x'),ann.get('rotation_quaternion').get('y'),ann.get('rotation_quaternion').get('z')).yaw_pitch_roll\n",
    "            yaw = np.round_(yaw_pitch_roll[0],5)\n",
    "\n",
    "            f = open(label_output+str(label_idx+idx).zfill(6)+\".txt\", 'a')\n",
    "            f.write(f'{x} {y} {z} {length} {width} {height} {yaw} {class_name}\\n')\n",
    "            f.close()\n",
    "    return\n",
    "    # return label_idx\n",
    "\n",
    "                           "
   ]
  },
  {
   "cell_type": "code",
   "execution_count": 15,
   "id": "3b943567",
   "metadata": {},
   "outputs": [],
   "source": [
    "###calib, file movement exec###\n",
    "\n",
    "asset_path_list = os.listdir(asset_path)\n",
    "asset_path_list = natsort.natsorted(asset_path_list)\n",
    "\n",
    "\n",
    "\n",
    "\n",
    "# print(asset_path_list)\n",
    "pcd_idx=0\n",
    "num_frame=[]\n",
    "num_frame.append(0)\n",
    "for data_cnt,path in enumerate(asset_path_list):\n",
    "    \n",
    "    files = os.listdir(asset_path+path)\n",
    "    files = natsort.natsorted(files)\n",
    "            \n",
    "    for file in files:        \n",
    "                   \n",
    "        if '.bin' in file:\n",
    "            #TODO : preprocession\n",
    "            pcd_file_path = os.path.join(asset_path+path, file)\n",
    "            copy_pcd('bin',pcd_file_path,output_path,pcd_idx)\n",
    "            pcd_idx+=1\n",
    "            # total_num_frame+=1\n",
    "            \n",
    "        if '.pcd' in file:\n",
    "            pcd_file_path = os.path.join(asset_path+path, file)\n",
    "            copy_pcd('pcd',pcd_file_path,output_path,pcd_idx)\n",
    "            pcd_idx+=1\n",
    "            # total_num_frame+=1\n",
    "            \n",
    "    num_frame.append(pcd_idx)\n",
    "# print(f'pcd num : {pcd_idx}')\n",
    "\n"
   ]
  },
  {
   "cell_type": "code",
   "execution_count": 16,
   "id": "3caed7cd",
   "metadata": {},
   "outputs": [
    {
     "data": {
      "text/plain": [
       "200"
      ]
     },
     "execution_count": 16,
     "metadata": {},
     "output_type": "execute_result"
    }
   ],
   "source": [
    "# num_frame\n",
    "num_frame[-1]"
   ]
  },
  {
   "cell_type": "code",
   "execution_count": 17,
   "id": "7fa9b184",
   "metadata": {},
   "outputs": [
    {
     "name": "stdout",
     "output_type": "stream",
     "text": [
      "0\n",
      "can't find objects\n",
      "1\n",
      "can't find objects\n",
      "num of label : 0\n"
     ]
    }
   ],
   "source": [
    "#####label exec\n",
    "\n",
    "label_path_list = os.listdir(label_path)\n",
    "label_path_list = natsort.natsorted(label_path_list)\n",
    "\n",
    "label_idx=0\n",
    "\n",
    "preprocess_label(output_path,num_frame[-1])\n",
    "for label_data_cnt,path in enumerate(label_path_list):\n",
    "    print(label_data_cnt)\n",
    "    files = os.listdir(label_path+path)\n",
    "    for file in files:\n",
    "        if 'info.json' in file:\n",
    "            json_file_path = os.path.join(label_path+path, file)\n",
    "            file = open(json_file_path)\n",
    "            jsonString = json.load(file)\n",
    "            convert_label_suite2custom(json_file_path,output_path, num_frame[label_data_cnt])\n",
    "\n",
    "\n"
   ]
  },
  {
   "cell_type": "code",
   "execution_count": 20,
   "id": "bce9d0f9",
   "metadata": {},
   "outputs": [],
   "source": [
    "#### split train, test\n",
    "\n",
    "try:\n",
    "    if not os.path.exists(output_path+'ImageSets/'):\n",
    "        os.makedirs(output_path+'ImageSets/')\n",
    "except OSError:\n",
    "    print(\"Error: Failed to create the directory.\")\n",
    "    \n",
    "f2 = open(output_path+'ImageSets/'+'train'+\".txt\", 'w')\n",
    "f3 = open(output_path+'ImageSets/'+'val'+\".txt\", 'w')\n",
    "for idx in range(num_frame[-1]):\n",
    "    if idx < num_frame[-1]*train_ratio:\n",
    "        f2.write(f'{str(idx).zfill(6)}\\n')\n",
    "    else:\n",
    "        f3.write(f'{str(idx).zfill(6)}\\n')\n",
    "    idx+=1\n",
    "f2.close()\n",
    "f3.close()\n"
   ]
  },
  {
   "cell_type": "code",
   "execution_count": null,
   "id": "13f0f543",
   "metadata": {},
   "outputs": [],
   "source": []
  },
  {
   "cell_type": "code",
   "execution_count": null,
   "id": "b3d418dc",
   "metadata": {},
   "outputs": [],
   "source": []
  }
 ],
 "metadata": {
  "kernelspec": {
   "display_name": "pcdet",
   "language": "python",
   "name": "python3"
  },
  "language_info": {
   "codemirror_mode": {
    "name": "ipython",
    "version": 3
   },
   "file_extension": ".py",
   "mimetype": "text/x-python",
   "name": "python",
   "nbconvert_exporter": "python",
   "pygments_lexer": "ipython3",
   "version": "3.8.16 (default, Jan 17 2023, 23:13:24) \n[GCC 11.2.0]"
  },
  "vscode": {
   "interpreter": {
    "hash": "9a80c0b2ff95d398b0238a658fc2767280a63b31a3529d091b59179bbbc694b2"
   }
  }
 },
 "nbformat": 4,
 "nbformat_minor": 5
}
